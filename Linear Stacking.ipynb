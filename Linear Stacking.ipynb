{
 "cells": [
  {
   "cell_type": "code",
   "execution_count": 1,
   "metadata": {},
   "outputs": [],
   "source": [
    "import numpy as np\n",
    "import pandas as pd\n",
    "import os\n",
    "from sklearn.linear_model import LogisticRegression\n",
    "from scipy.special import expit, logit\n",
    "from sklearn.metrics import roc_auc_score"
   ]
  },
  {
   "cell_type": "code",
   "execution_count": 2,
   "metadata": {},
   "outputs": [],
   "source": [
    "path1 = '../valid-train_data/'\n",
    "valid_df = pd.read_pickle(path1+'validation.pkl.gz')"
   ]
  },
  {
   "cell_type": "code",
   "execution_count": 3,
   "metadata": {},
   "outputs": [],
   "source": [
    "almost_zero = 1e-10\n",
    "almost_one = 1 - almost_zero"
   ]
  },
  {
   "cell_type": "code",
   "execution_count": 19,
   "metadata": {},
   "outputs": [],
   "source": [
    "base_models = {\n",
    "    'lgb1 ': \"Python LGBM based on Pranav Pandya's R version\",\n",
    "    'nn1  ': \"Neural Network based on Alexander Kireev's\",\n",
    "    'wbftl': \"anttip's Wordbatch FM-FTRL\",\n",
    "    'medium rf': 'random forest medium depth',\n",
    "    'deep rf': 'random forest deep depth',\n",
    "    'xgboost':'xgboost'\n",
    "    }"
   ]
  },
  {
   "cell_type": "code",
   "execution_count": 20,
   "metadata": {},
   "outputs": [],
   "source": [
    "cvfiles = {\n",
    "    'lgb1 ': path1+'lgbm_r_to_python_withcv_150upsample_valid.csv',\n",
    "    'nn1  ': path1+'NNET_valid.csv',\n",
    "    'wbftl': path1+'wordbatch_fm_ftrl_valid.csv',\n",
    "    'medium rf':path1+'morefeat_rf_medium_valid.csv',\n",
    "    'deep_rf':path1+'morefeat_rf_deep_valid.csv',\n",
    "    'xgboost':path1+'xgb_valid.csv'\n",
    "    }"
   ]
  },
  {
   "cell_type": "code",
   "execution_count": null,
   "metadata": {},
   "outputs": [],
   "source": [
    "#nnet has ip as 2nd column"
   ]
  },
  {
   "cell_type": "code",
   "execution_count": 21,
   "metadata": {},
   "outputs": [],
   "source": [
    "subfiles = {\n",
    "    'lgb1 ': path1+'lgbm_r_to_python_nocv_150upsample_sub.csv',\n",
    "    'nn1  ': path1+'NNET_sub.csv',\n",
    "    'wbftl': path1+'wordbatch_fm_ftrl_sub',\n",
    "    'medium rf':path1+'morefeat_rf_medium_sub.csv',\n",
    "    'deep_rf':path1+'morefeat_rf_deep_sub.csv',\n",
    "    'xgboost':path1+'xgb_sub.csv'\n",
    "    }"
   ]
  },
  {
   "cell_type": "code",
   "execution_count": null,
   "metadata": {},
   "outputs": [],
   "source": [
    "cvdata = pd.DataFrame( { \n",
    "    m:pd.read_csv(cvfiles[m])['is_attributed'].clip(almost_zero,almost_one).apply(logit) \n",
    "    for m in base_models\n",
    "    } )\n",
    "X_train = np.array(cvdata)\n",
    "y_train = pd.read_pickle(VAL_FILE)['is_attributed'] "
   ]
  },
  {
   "cell_type": "code",
   "execution_count": null,
   "metadata": {},
   "outputs": [],
   "source": [
    "cvdata.corr()"
   ]
  },
  {
   "cell_type": "code",
   "execution_count": null,
   "metadata": {},
   "outputs": [],
   "source": [
    "stack_model = LogisticRegression()\n",
    "stack_model.fit(X_train, y_train)\n",
    "stack_model.coef_"
   ]
  },
  {
   "cell_type": "code",
   "execution_count": null,
   "metadata": {},
   "outputs": [],
   "source": [
    "weights = stack_model.coef_/stack_model.coef_.sum()\n",
    "scores = [ roc_auc_score( y_train, expit(cvdata[c]) )  for c in cvdata.columns ]\n",
    "pd.DataFrame( data={'score':scores, 'weight':weights.reshape(-1)}, index=base_models.values() )"
   ]
  },
  {
   "cell_type": "code",
   "execution_count": null,
   "metadata": {},
   "outputs": [],
   "source": [
    "print(  'Stacker score: ', roc_auc_score( y_train, stack_model.predict_proba(X_train)[:,1] )  )"
   ]
  },
  {
   "cell_type": "code",
   "execution_count": null,
   "metadata": {},
   "outputs": [],
   "source": [
    "final_sub = pd.DataFrame()\n",
    "subs = {m:pd.read_csv(subfiles[m]).rename({'is_attributed':m},axis=1) for m in base_models}\n",
    "first_model = list(base_models.keys())[0]\n",
    "final_sub['click_id'] = subs[first_model]['click_id']"
   ]
  },
  {
   "cell_type": "code",
   "execution_count": null,
   "metadata": {},
   "outputs": [],
   "source": [
    "df = subs[first_model]\n",
    "for m in subs:\n",
    "    if m != first_model:\n",
    "        df = df.merge(subs[m], on='click_id')  # being careful in case clicks are in different order\n",
    "df.head()"
   ]
  },
  {
   "cell_type": "code",
   "execution_count": null,
   "metadata": {},
   "outputs": [],
   "source": [
    "X_test = np.array( df.drop(['click_id'],axis=1).clip(almost_zero,almost_one).apply(logit) )\n",
    "final_sub['is_attributed'] = stack_model.predict_proba(X_test)[:,1]\n",
    "final_sub.head(10)"
   ]
  },
  {
   "cell_type": "code",
   "execution_count": null,
   "metadata": {},
   "outputs": [],
   "source": [
    "final_sub.to_csv(\"sub_stacked.csv\", index=False, float_format='%.9f')"
   ]
  }
 ],
 "metadata": {
  "kernelspec": {
   "display_name": "Python 3",
   "language": "python",
   "name": "python3"
  },
  "language_info": {
   "codemirror_mode": {
    "name": "ipython",
    "version": 3
   },
   "file_extension": ".py",
   "mimetype": "text/x-python",
   "name": "python",
   "nbconvert_exporter": "python",
   "pygments_lexer": "ipython3",
   "version": "3.6.4"
  }
 },
 "nbformat": 4,
 "nbformat_minor": 2
}
